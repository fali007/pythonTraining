{
 "cells": [
  {
   "cell_type": "markdown",
   "metadata": {},
   "source": [
    "# Integer"
   ]
  },
  {
   "cell_type": "code",
   "execution_count": 20,
   "metadata": {},
   "outputs": [
    {
     "name": "stdout",
     "output_type": "stream",
     "text": [
      "i is a variable of type <class 'int'>\n"
     ]
    }
   ],
   "source": [
    "i=7\n",
    "print(\"i is a variable of type %s\"%(type(i)))"
   ]
  },
  {
   "cell_type": "markdown",
   "metadata": {},
   "source": [
    "## Integer addition"
   ]
  },
  {
   "cell_type": "code",
   "execution_count": 21,
   "metadata": {},
   "outputs": [
    {
     "name": "stdout",
     "output_type": "stream",
     "text": [
      "sum of 'a' and 'b' : 7\n"
     ]
    }
   ],
   "source": [
    "a=3\n",
    "b=4\n",
    "print(\"sum of 'a' and 'b' :\",a+b)"
   ]
  },
  {
   "cell_type": "markdown",
   "metadata": {},
   "source": [
    "# String"
   ]
  },
  {
   "cell_type": "code",
   "execution_count": 22,
   "metadata": {},
   "outputs": [
    {
     "name": "stdout",
     "output_type": "stream",
     "text": [
      "s is a variable of type <class 'str'>\n"
     ]
    }
   ],
   "source": [
    "s=\"python\"\n",
    "print(\"s is a variable of type %s\"%(type(s)))"
   ]
  },
  {
   "cell_type": "markdown",
   "metadata": {},
   "source": [
    "## String Concatenation"
   ]
  },
  {
   "cell_type": "code",
   "execution_count": 23,
   "metadata": {},
   "outputs": [
    {
     "name": "stdout",
     "output_type": "stream",
     "text": [
      "added string is ice cream\n"
     ]
    }
   ],
   "source": [
    "s1=\"ice\"\n",
    "s2=\"cream\"\n",
    "print(\"added string is \" + s1 + \" \" + s2)"
   ]
  },
  {
   "cell_type": "markdown",
   "metadata": {},
   "source": [
    "## String Slicing"
   ]
  },
  {
   "cell_type": "code",
   "execution_count": 24,
   "metadata": {},
   "outputs": [
    {
     "name": "stdout",
     "output_type": "stream",
     "text": [
      "0 - p, 1 - y, 2 - t\n",
      "string from index 1 -> 5 [python] ytho\n",
      "string from index 3 -> end [python] hon\n",
      "string from index start -> 4 [python] pyth\n"
     ]
    }
   ],
   "source": [
    "print(\"0 - %s, 1 - %s, 2 - %s\"%(s[0],s[1],s[2]))\n",
    "print(\"string from index 1 -> 5 [python] \" + s[1:5])\n",
    "print(\"string from index 3 -> end [python] \" + s[3:])\n",
    "print(\"string from index start -> 4 [python] \" + s[:4])"
   ]
  },
  {
   "cell_type": "markdown",
   "metadata": {},
   "source": [
    "# Float"
   ]
  },
  {
   "cell_type": "code",
   "execution_count": 25,
   "metadata": {},
   "outputs": [
    {
     "name": "stdout",
     "output_type": "stream",
     "text": [
      "<class 'float'>\n",
      "0.67\n",
      "0.666667\n"
     ]
    }
   ],
   "source": [
    "num=2/3\n",
    "print(type(num))\n",
    "print(\"%.2f\"%(num))\n",
    "print(\"%f\"%(num))"
   ]
  },
  {
   "cell_type": "markdown",
   "metadata": {},
   "source": [
    "# Mathematical Operations"
   ]
  },
  {
   "cell_type": "markdown",
   "metadata": {},
   "source": [
    "Addition"
   ]
  },
  {
   "cell_type": "code",
   "execution_count": 26,
   "metadata": {},
   "outputs": [
    {
     "name": "stdout",
     "output_type": "stream",
     "text": [
      "sum of 'a' and 'b' :  9\n",
      "sum of 'a' and 'b' :  9\n",
      "sum of 'd' and 'e' :  5.670100000000001\n"
     ]
    }
   ],
   "source": [
    "#integer\n",
    "a=2\n",
    "b=7\n",
    "c=a+b\n",
    "print(\"sum of 'a' and 'b' : \",c)\n",
    "print(\"sum of 'a' and 'b' : \",a+b)"
   ]
  },
  {
   "cell_type": "code",
   "execution_count": 34,
   "metadata": {},
   "outputs": [
    {
     "name": "stdout",
     "output_type": "stream",
     "text": [
      "sum of 'd' and 'e' : 5.670100000000001\n",
      "sum of 'd' and 'e' : 5.6701\n"
     ]
    }
   ],
   "source": [
    "#float\n",
    "d=0.23\n",
    "e=5.4401\n",
    "f=d+e\n",
    "print(\"sum of 'd' and 'e' :\",d+e)\n",
    "print(\"sum of 'd' and 'e' : %.4f\"%(f))"
   ]
  },
  {
   "cell_type": "markdown",
   "metadata": {},
   "source": [
    "Multiplication"
   ]
  },
  {
   "cell_type": "code",
   "execution_count": 35,
   "metadata": {},
   "outputs": [
    {
     "name": "stdout",
     "output_type": "stream",
     "text": [
      "sum of 'a' and 'b' :  14\n",
      "sum of 'a' and 'b' :  14\n"
     ]
    }
   ],
   "source": [
    "a=2\n",
    "b=7\n",
    "c=a*b\n",
    "print(\"sum of 'a' and 'b' : \",c)\n",
    "print(\"sum of 'a' and 'b' : \",a*b)"
   ]
  },
  {
   "cell_type": "markdown",
   "metadata": {},
   "source": [
    "Division"
   ]
  },
  {
   "cell_type": "code",
   "execution_count": 39,
   "metadata": {},
   "outputs": [
    {
     "name": "stdout",
     "output_type": "stream",
     "text": [
      "'a' divided by 'b' is 1.750000\n",
      "'a' divided by 'b' is 1\n",
      "'a' divided by 'b' is 1\n"
     ]
    }
   ],
   "source": [
    "a=7\n",
    "b=4\n",
    "print(\"'a' divided by 'b' is %f\"%(a/b))\n",
    "print(\"'a' divided by 'b' is %d\"%(a/b))\n",
    "print(\"'a' divided by 'b' is\",a//b)"
   ]
  },
  {
   "cell_type": "markdown",
   "metadata": {},
   "source": [
    "Power"
   ]
  },
  {
   "cell_type": "code",
   "execution_count": 40,
   "metadata": {},
   "outputs": [
    {
     "name": "stdout",
     "output_type": "stream",
     "text": [
      "'a' to the power 'b' is : 81\n",
      "'a' to the power '2' is : 9\n"
     ]
    }
   ],
   "source": [
    "a=3\n",
    "b=4\n",
    "print(\"'a' to the power 'b' is :\",a**b)\n",
    "print(\"'a' to the power '2' is :\",a**2)"
   ]
  },
  {
   "cell_type": "markdown",
   "metadata": {},
   "source": [
    "# Typecasting"
   ]
  },
  {
   "cell_type": "code",
   "execution_count": 41,
   "metadata": {},
   "outputs": [
    {
     "data": {
      "text/plain": [
       "1.0"
      ]
     },
     "execution_count": 41,
     "metadata": {},
     "output_type": "execute_result"
    }
   ],
   "source": [
    "a=1\n",
    "float(a)"
   ]
  },
  {
   "cell_type": "code",
   "execution_count": 44,
   "metadata": {},
   "outputs": [
    {
     "name": "stdout",
     "output_type": "stream",
     "text": [
      "2\n"
     ]
    }
   ],
   "source": [
    "a=2.234\n",
    "print(int(a))\n",
    "# previous integer"
   ]
  },
  {
   "cell_type": "code",
   "execution_count": 45,
   "metadata": {},
   "outputs": [
    {
     "data": {
      "text/plain": [
       "'1'"
      ]
     },
     "execution_count": 45,
     "metadata": {},
     "output_type": "execute_result"
    }
   ],
   "source": [
    "a=1\n",
    "str(a)"
   ]
  },
  {
   "cell_type": "code",
   "execution_count": 46,
   "metadata": {},
   "outputs": [
    {
     "data": {
      "text/plain": [
       "1"
      ]
     },
     "execution_count": 46,
     "metadata": {},
     "output_type": "execute_result"
    }
   ],
   "source": [
    "a='1'\n",
    "int(a)"
   ]
  },
  {
   "cell_type": "code",
   "execution_count": null,
   "metadata": {},
   "outputs": [],
   "source": []
  }
 ],
 "metadata": {
  "kernelspec": {
   "display_name": "Python 3",
   "language": "python",
   "name": "python3"
  },
  "language_info": {
   "codemirror_mode": {
    "name": "ipython",
    "version": 3
   },
   "file_extension": ".py",
   "mimetype": "text/x-python",
   "name": "python",
   "nbconvert_exporter": "python",
   "pygments_lexer": "ipython3",
   "version": "3.8.5"
  }
 },
 "nbformat": 4,
 "nbformat_minor": 4
}
